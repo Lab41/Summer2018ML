{
  "nbformat": 4,
  "nbformat_minor": 0,
  "metadata": {
    "colab": {
      "name": "Lab41.1.ipynb",
      "version": "0.3.2",
      "views": {},
      "default_view": {},
      "provenance": [],
      "collapsed_sections": []
    },
    "kernelspec": {
      "name": "python3",
      "display_name": "Python 3"
    }
  },
  "cells": [
    {
      "metadata": {
        "id": "hgD1WiYV3DFm",
        "colab_type": "code",
        "colab": {
          "autoexec": {
            "startup": false,
            "wait_interval": 0
          },
          "base_uri": "https://localhost:8080/",
          "height": 296
        },
        "outputId": "e1ac8147-a85d-4fb0-aa98-1bacee65f2b1",
        "executionInfo": {
          "status": "ok",
          "timestamp": 1530214653860,
          "user_tz": 420,
          "elapsed": 546,
          "user": {
            "displayName": "Summer2018 Lab41",
            "photoUrl": "https://lh3.googleusercontent.com/a/default-user=s128",
            "userId": "115943625189981908908"
          }
        }
      },
      "cell_type": "code",
      "source": [
        "import numpy as np\n",
        "import matplotlib.pylab as plt\n",
        "%matplotlib inline  \n",
        "\n",
        "w = 6.5\n",
        "avocados = 4*np.random.rand(50)\n",
        "miles = w*avocados + np.random.randn(50)\n",
        "\n",
        "plt.scatter(avocados,miles); \n",
        "plt.xlabel('Avocados Eaten'); plt.ylabel('Miles to Run')"
      ],
      "execution_count": 3,
      "outputs": [
        {
          "output_type": "execute_result",
          "data": {
            "text/plain": [
              "Text(0,0.5,'Miles to Run')"
            ]
          },
          "metadata": {
            "tags": []
          },
          "execution_count": 3
        },
        {
          "output_type": "display_data",
          "data": {
            "image/png": "[encoded data removed]",
            "text/plain": [
              "<matplotlib.figure.Figure at 0x7f5dbae88588>"
            ]
          },
          "metadata": {
            "tags": []
          }
        }
      ]
    },
    {
      "metadata": {
        "id": "kHiKVjfavlow",
        "colab_type": "code",
        "colab": {
          "autoexec": {
            "startup": false,
            "wait_interval": 0
          },
          "base_uri": "https://localhost:8080/",
          "height": 282
        },
        "outputId": "98a705b8-dfd4-4157-c5ad-b60ec915ca51",
        "executionInfo": {
          "status": "ok",
          "timestamp": 1530214661673,
          "user_tz": 420,
          "elapsed": 452,
          "user": {
            "displayName": "Summer2018 Lab41",
            "photoUrl": "https://lh3.googleusercontent.com/a/default-user=s128",
            "userId": "115943625189981908908"
          }
        }
      },
      "cell_type": "code",
      "source": [
        "# The mean squared error loss\n",
        "def loss( x, y, w ):\n",
        "  return sum( (y - w * x)**2 )/len(x)\n",
        "\n",
        "# Calculate the loss value for every w between -1.0 and 15.0\n",
        "w_sweep = np.linspace(w-8, w+8, num=1000)\n",
        "L = np.zeros(len(w_sweep))\n",
        "for i, w_s in enumerate(w_sweep):\n",
        "  L[i] = loss( avocados, miles, w_s )\n",
        "plt.plot(w_sweep, L)"
      ],
      "execution_count": 4,
      "outputs": [
        {
          "output_type": "execute_result",
          "data": {
            "text/plain": [
              "[<matplotlib.lines.Line2D at 0x7f5dbadd4898>]"
            ]
          },
          "metadata": {
            "tags": []
          },
          "execution_count": 4
        },
        {
          "output_type": "display_data",
          "data": {
            "image/png": "[encoded data removed]",
            "text/plain": [
              "<matplotlib.figure.Figure at 0x7f5dbaf0fc18>"
            ]
          },
          "metadata": {
            "tags": []
          }
        }
      ]
    },
    {
      "metadata": {
        "id": "W2VZcegg7Hk1",
        "colab_type": "code",
        "colab": {
          "autoexec": {
            "startup": false,
            "wait_interval": 0
          },
          "base_uri": "https://localhost:8080/",
          "height": 51
        },
        "outputId": "cb48e894-662b-4fc3-e49d-d8c7e65f99c1",
        "executionInfo": {
          "status": "ok",
          "timestamp": 1530214668477,
          "user_tz": 420,
          "elapsed": 266,
          "user": {
            "displayName": "Summer2018 Lab41",
            "photoUrl": "https://lh3.googleusercontent.com/a/default-user=s128",
            "userId": "115943625189981908908"
          }
        }
      },
      "cell_type": "code",
      "source": [
        "data = zip( avocados, miles )\n",
        "\n",
        "def f( w, x ):\n",
        "  return x\n",
        "\n",
        "def gradient_loss( x, y, w ):\n",
        "  return sum(x)\n",
        "\n",
        "def optimize( x, y, w=10*np.random.randn(), numsteps=300, alpha = 0.01 ):\n",
        "  return w\n",
        "\n",
        "# Question: What's the optimal value of w?\n",
        "print('The optimal value of w is {}.'.format(optimize(avocados, miles)))\n",
        "\n",
        "# Question: how many miles do I have to run after eating 6 avocados?\n",
        "print('After eating six avocados, run {} miles'.format(f(w, 6)))\n",
        "\n"
      ],
      "execution_count": 5,
      "outputs": [
        {
          "output_type": "stream",
          "text": [
            "The optimal value of w is -4.749756123507932.\n",
            "After eating six avocados, run 6 miles\n"
          ],
          "name": "stdout"
        }
      ]
    }
  ]
}
