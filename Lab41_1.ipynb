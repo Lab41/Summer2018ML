{
  "nbformat": 4,
  "nbformat_minor": 0,
  "metadata": {
    "colab": {
      "name": "Lab41.1.ipynb",
      "version": "0.3.2",
      "views": {},
      "default_view": {},
      "provenance": [],
      "collapsed_sections": []
    },
    "kernelspec": {
      "name": "python3",
      "display_name": "Python 3"
    }
  },
  "cells": [
    {
      "metadata": {
        "id": "5PFamusiUPZO",
        "colab_type": "text"
      },
      "cell_type": "markdown",
      "source": [
        "# Lab41 Summer Lab 1"
      ]
    },
    {
      "metadata": {
        "id": "hgD1WiYV3DFm",
        "colab_type": "code",
        "colab": {
          "autoexec": {
            "startup": false,
            "wait_interval": 0
          },
          "base_uri": "https://localhost:8080/",
          "height": 297
        },
        "outputId": "e52d76b3-1a82-411b-a33a-e9cc656527a4",
        "executionInfo": {
          "status": "ok",
          "timestamp": 1530221367471,
          "user_tz": 420,
          "elapsed": 612,
          "user": {
            "displayName": "Summer2018 Lab41",
            "photoUrl": "https://lh3.googleusercontent.com/a/default-user=s128",
            "userId": "115943625189981908908"
          }
        }
      },
      "cell_type": "code",
      "source": [
        "import numpy as np\n",
        "import matplotlib.pylab as plt\n",
        "%matplotlib inline  \n",
        "\n",
        "w = 6.5\n",
        "avocados = 4*np.random.rand(50)\n",
        "miles = w*avocados + np.random.randn(50)\n",
        "\n",
        "plt.scatter(avocados,miles); \n",
        "plt.xlabel('Avocados Eaten'); plt.ylabel('Miles to Run')"
      ],
      "execution_count": 7,
      "outputs": [
        {
          "output_type": "execute_result",
          "data": {
            "text/plain": [
              "Text(0,0.5,'Miles to Run')"
            ]
          },
          "metadata": {
            "tags": []
          },
          "execution_count": 7
        },
        {
          "output_type": "display_data",
          "data": {
            "image/png": "[encoded data removed]",
            "text/plain": [
              "<matplotlib.figure.Figure at 0x7f5dbae5f908>"
            ]
          },
          "metadata": {
            "tags": []
          }
        }
      ]
    },
    {
      "metadata": {
        "id": "92PqCcLsULBJ",
        "colab_type": "text"
      },
      "cell_type": "markdown",
      "source": [
        ""
      ]
    },
    {
      "metadata": {
        "id": "kHiKVjfavlow",
        "colab_type": "code",
        "colab": {
          "autoexec": {
            "startup": false,
            "wait_interval": 0
          },
          "base_uri": "https://localhost:8080/",
          "height": 283
        },
        "outputId": "7978fa9a-72b5-4723-c549-f125571bc840",
        "executionInfo": {
          "status": "ok",
          "timestamp": 1530222027592,
          "user_tz": 420,
          "elapsed": 418,
          "user": {
            "displayName": "Summer2018 Lab41",
            "photoUrl": "https://lh3.googleusercontent.com/a/default-user=s128",
            "userId": "115943625189981908908"
          }
        }
      },
      "cell_type": "code",
      "source": [
        "# The mean squared error loss\n",
        "def loss( x, y, w ):\n",
        "  return sum( (y - w * x)**2 )/len(x)\n",
        "\n",
        "def gradient_loss( x, y, w ):\n",
        "  L = - np.mean( 2*(y - f(w,x))*x )\n",
        "  return L\n",
        "\n",
        "# Calculate the loss value for every w between -1.0 and 15.0\n",
        "w_sweep = np.linspace(w-8, w+8, num=1000)\n",
        "L = np.zeros(len(w_sweep))\n",
        "for i, w_s in enumerate(w_sweep):\n",
        "  L[i] = loss( avocados, miles, w_s )\n",
        "plt.plot(w_sweep, L)"
      ],
      "execution_count": 10,
      "outputs": [
        {
          "output_type": "execute_result",
          "data": {
            "text/plain": [
              "[<matplotlib.lines.Line2D at 0x7f5dbac01518>]"
            ]
          },
          "metadata": {
            "tags": []
          },
          "execution_count": 10
        },
        {
          "output_type": "display_data",
          "data": {
            "image/png": "[encoded data removed]",
            "text/plain": [
              "<matplotlib.figure.Figure at 0x7f5dbacef518>"
            ]
          },
          "metadata": {
            "tags": []
          }
        }
      ]
    },
    {
      "metadata": {
        "id": "W2VZcegg7Hk1",
        "colab_type": "code",
        "colab": {
          "autoexec": {
            "startup": false,
            "wait_interval": 0
          },
          "base_uri": "https://localhost:8080/",
          "height": 52
        },
        "outputId": "ec9f8e00-b928-4cd5-a101-079dfb2ea865",
        "executionInfo": {
          "status": "ok",
          "timestamp": 1530222047464,
          "user_tz": 420,
          "elapsed": 378,
          "user": {
            "displayName": "Summer2018 Lab41",
            "photoUrl": "https://lh3.googleusercontent.com/a/default-user=s128",
            "userId": "115943625189981908908"
          }
        }
      },
      "cell_type": "code",
      "source": [
        "# data = avocados, miles\n",
        "\n",
        "def f( w, x ):\n",
        "  # Fill in this function\n",
        "  return x\n",
        "\n",
        "def optimize( x, y, w=10*np.random.randn(), numsteps=300, alpha = 0.01 ):\n",
        "  # Fill in this function\n",
        "  return w\n",
        "\n",
        "# Question: What's the optimal value of w?\n",
        "print('The optimal value of w is {}.'.format(optimize(avocados, miles)))\n",
        "\n",
        "# Question: how many miles do I have to run after eating 6 avocados?\n",
        "print('After eating six avocados, run {} miles'.format(f(w, 6)))\n",
        "\n"
      ],
      "execution_count": 13,
      "outputs": [
        {
          "output_type": "stream",
          "text": [
            "The optimal value of w is 1.9293899066553526.\n",
            "After eating six avocados, run 6 miles\n"
          ],
          "name": "stdout"
        }
      ]
    }
  ]
}