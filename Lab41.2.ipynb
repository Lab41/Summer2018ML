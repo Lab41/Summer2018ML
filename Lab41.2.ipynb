{
  "nbformat": 4,
  "nbformat_minor": 0,
  "metadata": {
    "colab": {
      "name": " Lab41.2",
      "version": "0.3.2",
      "views": {},
      "default_view": {},
      "provenance": [
        {
          "file_id": "17qEehN3SsNDbR1ux2n3QLLDxTtPj6rbi",
          "timestamp": 1531437237584
        }
      ],
      "collapsed_sections": []
    },
    "kernelspec": {
      "name": "python3",
      "display_name": "Python 3"
    },
    "accelerator": "GPU"
  },
  "cells": [
    {
      "metadata": {
        "id": "J8wWWtJP-dMo",
        "colab_type": "code",
        "colab": {
          "autoexec": {
            "startup": false,
            "wait_interval": 0
          },
          "base_uri": "https://localhost:8080/",
          "height": 34
        },
        "outputId": "5264b7d9-687e-4b20-8780-28e75a215ec5",
        "executionInfo": {
          "status": "ok",
          "timestamp": 1531497070417,
          "user_tz": 420,
          "elapsed": 8075,
          "user": {
            "displayName": "Summer2018 Lab41",
            "photoUrl": "https://lh3.googleusercontent.com/a/default-user=s128",
            "userId": "115943625189981908908"
          }
        }
      },
      "cell_type": "code",
      "source": [
        "import tensorflow as tf\n",
        "import numpy as np\n",
        "import matplotlib.pyplot as plt\n",
        "%matplotlib inline \n",
        "\n",
        "sess = tf.InteractiveSession()\n",
        "device_name = tf.test.gpu_device_name()\n",
        "if device_name != '/device:GPU:0':\n",
        "  raise SystemError('GPU device not found')\n",
        "print('Found GPU at: {}'.format(device_name))"
      ],
      "execution_count": 2,
      "outputs": [
        {
          "output_type": "stream",
          "text": [
            "Found GPU at: /device:GPU:0\n"
          ],
          "name": "stdout"
        }
      ]
    },
    {
      "metadata": {
        "id": "T57-6nyyAGBR",
        "colab_type": "text"
      },
      "cell_type": "markdown",
      "source": [
        "### Simple Gradients\n",
        "\n",
        "Let's take the gradient of $ f(x) = x^2 $. The gradient should be 2x."
      ]
    },
    {
      "metadata": {
        "id": "iatexQu7-rKe",
        "colab_type": "code",
        "colab": {
          "autoexec": {
            "startup": false,
            "wait_interval": 0
          },
          "base_uri": "https://localhost:8080/",
          "height": 34
        },
        "outputId": "04f3c35a-9fa6-43a2-81a3-469626d6a75a",
        "executionInfo": {
          "status": "ok",
          "timestamp": 1531497070710,
          "user_tz": 420,
          "elapsed": 273,
          "user": {
            "displayName": "Summer2018 Lab41",
            "photoUrl": "https://lh3.googleusercontent.com/a/default-user=s128",
            "userId": "115943625189981908908"
          }
        }
      },
      "cell_type": "code",
      "source": [
        "def f(x): return x**2\n",
        "def grad_f(x): return 2*x\n",
        "def numerical_grad_f(x, eps): \n",
        "  dely = f(x+eps)-f(x-eps)\n",
        "  delx = (2*eps)\n",
        "  return dely / delx\n",
        "\n",
        "x = 9\n",
        "eps= 1.0e-9\n",
        "fx = f(x)\n",
        "gradx = grad_f(x)\n",
        "ngradx = numerical_grad_f(x, eps)\n",
        "print(\"The calculated gradient of f(x) is {}, and the numerical gradient is {}\".format(gradx, ngradx))"
      ],
      "execution_count": 3,
      "outputs": [
        {
          "output_type": "stream",
          "text": [
            "The calculated gradient of f(x) is 18, and the numerical gradient is 18.000001489326678\n"
          ],
          "name": "stdout"
        }
      ]
    },
    {
      "metadata": {
        "id": "W_T-YkuDBijE",
        "colab_type": "text"
      },
      "cell_type": "markdown",
      "source": [
        "### Gradient in the Example\n",
        "\n",
        "Let's take the gradient of $f(x) = ( x^3 + 5 )^2$. \n",
        "\n",
        "Using the chain rule, this is:\n",
        "\n",
        " \\begin{align} \n",
        " \\frac{\\partial f(x)}{\\partial(x)} &= 2(x^3 + 5)3x^2  \\\\\n",
        " &= 6x^5 + 30x^2\n",
        " \\end{align}\n",
        " \n",
        " But, you can also calculate it numerically! \n",
        " \n",
        " \\begin{align}\n",
        " \\frac{\\Delta f(x)}{\\Delta x} = \\frac{ f(x^+) - f(x^-)}{ x^+ - x^- }\n",
        " \\end{align}\n",
        " \n",
        "The numerical gradient is just taking a couple of points, and then seeing how they differ.\n",
        "    \n",
        " \n",
        "    \n",
        "    \n",
        "    "
      ]
    },
    {
      "metadata": {
        "id": "ATY7X0ZgBhgk",
        "colab_type": "code",
        "colab": {
          "autoexec": {
            "startup": false,
            "wait_interval": 0
          },
          "base_uri": "https://localhost:8080/",
          "height": 34
        },
        "outputId": "fac43dad-6b67-4df5-e8b5-1591b2301d89",
        "executionInfo": {
          "status": "ok",
          "timestamp": 1531497071099,
          "user_tz": 420,
          "elapsed": 330,
          "user": {
            "displayName": "Summer2018 Lab41",
            "photoUrl": "https://lh3.googleusercontent.com/a/default-user=s128",
            "userId": "115943625189981908908"
          }
        }
      },
      "cell_type": "code",
      "source": [
        "def f(x): return (x**3 + 5)**2\n",
        "def grad_f(x): return (6*x**5+30*x**2)\n",
        "def numerical_grad_f(x, eps): \n",
        "  dely = f(x+eps)-f(x-eps)\n",
        "  delx = (2*eps)\n",
        "  return dely / delx\n",
        "\n",
        "x = 3\n",
        "eps= 1.0e-9\n",
        "fx = f(x)\n",
        "gradx = grad_f(x)\n",
        "ngradx = numerical_grad_f(x, eps)\n",
        "print(\"The calculated gradient of f(x) is {}, and the numerical gradient is {}\".format(gradx, ngradx))"
      ],
      "execution_count": 4,
      "outputs": [
        {
          "output_type": "stream",
          "text": [
            "The calculated gradient of f(x) is 1728, and the numerical gradient is 1728.0000292885234\n"
          ],
          "name": "stdout"
        }
      ]
    },
    {
      "metadata": {
        "id": "EsJkdK9bDqCf",
        "colab_type": "text"
      },
      "cell_type": "markdown",
      "source": [
        "### Using Tensorflow\n",
        "\n",
        "Tensorflow has automatic differentiation, and there are tons of good [references](http://rail.eecs.berkeley.edu/deeprlcoursesp17/docs/tfsection.pdf) online. The basic idea is that the code creates a graph of operations and data (covered in class) and then puts those on the GPU.\n",
        "\n",
        "In this exercise, using the Google tensorflow library, let's fit data to $\\hat{y} = \\sigma\\left( wx + b \\right)$. What does this graph look like?\n",
        "\n",
        "#### Syntax\n",
        "\n",
        "To create a variable, you would type in:\n",
        "\n",
        "```w = tf.Variable(<initial-value>, name=<optional-name>)```\n",
        "\n",
        "To create a placeholder (where you pass information onto the GPU), you type in\n",
        "\n",
        "```x = tf.placeholder(<type>)```\n",
        "\n",
        "Below, we initialize all the variables (really, just creating them). Now, there are variables residing on the GPU. If you want to use any of those variables, you'd need to tranfer them from the GPU to the CPU. \n"
      ]
    },
    {
      "metadata": {
        "id": "7WSJ3SvMEPsk",
        "colab_type": "text"
      },
      "cell_type": "markdown",
      "source": [
        ""
      ]
    },
    {
      "metadata": {
        "id": "9c12LfFKDpHY",
        "colab_type": "code",
        "colab": {
          "autoexec": {
            "startup": false,
            "wait_interval": 0
          },
          "base_uri": "https://localhost:8080/",
          "height": 17
        },
        "outputId": "3e91640f-19a4-4cc6-a591-bfb6e7e595d2",
        "executionInfo": {
          "status": "ok",
          "timestamp": 1531497071535,
          "user_tz": 420,
          "elapsed": 384,
          "user": {
            "displayName": "Summer2018 Lab41",
            "photoUrl": "https://lh3.googleusercontent.com/a/default-user=s128",
            "userId": "115943625189981908908"
          }
        }
      },
      "cell_type": "code",
      "source": [
        "def sigmoid( z ):\n",
        "  return 1 / (1 + np.exp(-z))\n",
        "\n",
        "def tf_sigmoid( z ):\n",
        "  return 1 / (1 + tf.exp(-z))\n",
        "\n",
        "# Placeholders for input and outputs\n",
        "tf_x = tf.placeholder(tf.float32)\n",
        "tf_y = tf.placeholder(tf.float32)\n",
        "\n",
        "# Variables that you want to optimize. We're only using scalars\n",
        "tf_w = tf.Variable(np.random.randn(), name='W_scalar')\n",
        "tf_b = tf.Variable(np.random.randn(), name='b_scalar')\n",
        "\n",
        "# The loss function we're using is the Mean Squared Error\n",
        "tf_Loss = tf.reduce_mean( tf.square( tf_y - tf.sigmoid(tf_w * tf_x + tf_b) ) )\n",
        "tf_dYdX = tf.gradients(tf_Loss, [tf_w, tf_b])\n",
        "\n",
        "# Tensorflow allows us to simply use optimizers\n",
        "optimizer = tf.train.AdamOptimizer(0.001)\n",
        "tf_opt = optimizer.minimize(tf_Loss)\n",
        "\n",
        "# Initialize and run all variables\n",
        "sess.run(tf.global_variables_initializer())"
      ],
      "execution_count": 5,
      "outputs": []
    },
    {
      "metadata": {
        "id": "6mcf1cfvPXnL",
        "colab_type": "text"
      },
      "cell_type": "markdown",
      "source": [
        "### The Equivalent in Numpy\n",
        "\n",
        "Numpy is a numerical library, which works on the CPU (and not the GPU). "
      ]
    },
    {
      "metadata": {
        "id": "Yr-4mqmBOG0O",
        "colab_type": "code",
        "colab": {
          "autoexec": {
            "startup": false,
            "wait_interval": 0
          },
          "base_uri": "https://localhost:8080/",
          "height": 296
        },
        "outputId": "e63cd175-715c-4215-fdc6-714d87cbbff8",
        "executionInfo": {
          "status": "ok",
          "timestamp": 1531497092922,
          "user_tz": 420,
          "elapsed": 362,
          "user": {
            "displayName": "Summer2018 Lab41",
            "photoUrl": "https://lh3.googleusercontent.com/a/default-user=s128",
            "userId": "115943625189981908908"
          }
        }
      },
      "cell_type": "code",
      "source": [
        "N = 500 # Number of points\n",
        "\n",
        "# Initial parameters: Truth parameters\n",
        "np_w = 0.5; np_b = -5\n",
        "\n",
        "# Function for inference/generating data\n",
        "def calculate_f(x, w, b, generate=False):\n",
        "  # This is if you're generating any data. We'll be adding noise.\n",
        "  if generate:\n",
        "    return sigmoid( w*x + b ) + 0.05*np.random.randn(N)> 0.5\n",
        "  # Otherwise, just evaluate it\n",
        "  else:\n",
        "    return sigmoid( w*x + b)\n",
        "  \n",
        "  # The loss function (as described in class)\n",
        "def calculate_loss(x, y, w, b):\n",
        "  return np.mean( ( y - sigmoid( w * x + b) )**2 ) \n",
        "\n",
        "# Here is some \"truth\" data\n",
        "np_x = 30 * np.random.randn(N)\n",
        "np_y = calculate_f(np_x, np_w, np_b, generate=True)\n",
        "\n",
        "plt.scatter(np_x, np_y); plt.xlabel('X (input)')"
      ],
      "execution_count": 10,
      "outputs": [
        {
          "output_type": "execute_result",
          "data": {
            "text/plain": [
              "Text(0.5,0,'X (input)')"
            ]
          },
          "metadata": {
            "tags": []
          },
          "execution_count": 10
        },
        {
          "output_type": "display_data",
          "data": {
            "image/png": "[encoded data removed]",
            "text/plain": [
              "<matplotlib.figure.Figure at 0x7fb840f55a90>"
            ]
          },
          "metadata": {
            "tags": []
          }
        }
      ]
    },
    {
      "metadata": {
        "id": "lFTo-pVDVx_T",
        "colab_type": "text"
      },
      "cell_type": "markdown",
      "source": [
        "### Calculate Tensorflow\n",
        "\n",
        "To transfer variables to and from the GPU, you use the \"run\". Each \"session\" you have on the GPU box has a function `run`, which is an operation you command for the GPU access. To get a variable, for example, you would run: `CPU_VAR = sess.run(GPU_VAR)`.\n",
        "\n",
        "You can also run the graph you created, by feeding in a dictionary. Look up the Tensorflow instructions to run a session with `feed_dict`. Calculate the gradient from our graph."
      ]
    },
    {
      "metadata": {
        "id": "JmWlHYXdVLf2",
        "colab_type": "code",
        "colab": {
          "autoexec": {
            "startup": false,
            "wait_interval": 0
          },
          "base_uri": "https://localhost:8080/",
          "height": 34
        },
        "outputId": "b858ad31-06f5-4ae8-a5da-78832a334f05",
        "executionInfo": {
          "status": "ok",
          "timestamp": 1531497072303,
          "user_tz": 420,
          "elapsed": 281,
          "user": {
            "displayName": "Summer2018 Lab41",
            "photoUrl": "https://lh3.googleusercontent.com/a/default-user=s128",
            "userId": "115943625189981908908"
          }
        }
      },
      "cell_type": "code",
      "source": [
        "# Let's get the values from tensorflow\n",
        "val_w = sess.run(tf_w)\n",
        "val_b = sess.run(tf_b)\n",
        "\n",
        "# Tensorflow gradients\n",
        "val_dYdX = 0\n",
        "print(\"Tensorflow calculated the gradients to be \", val_dYdX)"
      ],
      "execution_count": 7,
      "outputs": [
        {
          "output_type": "stream",
          "text": [
            "Tensorflow calculated the gradients to be  0\n"
          ],
          "name": "stdout"
        }
      ]
    },
    {
      "metadata": {
        "id": "p9_4e-BUWkXo",
        "colab_type": "text"
      },
      "cell_type": "markdown",
      "source": [
        "### Checking answers with Numpy\n",
        "\n",
        "Now, check your tensorflow gradient with NUMPY."
      ]
    },
    {
      "metadata": {
        "id": "3De_kSP5ZB0x",
        "colab_type": "code",
        "colab": {
          "autoexec": {
            "startup": false,
            "wait_interval": 0
          },
          "base_uri": "https://localhost:8080/",
          "height": 51
        },
        "outputId": "e2fb75b9-7e94-4c2a-db75-999f3fadc78c",
        "executionInfo": {
          "status": "ok",
          "timestamp": 1531497072622,
          "user_tz": 420,
          "elapsed": 258,
          "user": {
            "displayName": "Summer2018 Lab41",
            "photoUrl": "https://lh3.googleusercontent.com/a/default-user=s128",
            "userId": "115943625189981908908"
          }
        }
      },
      "cell_type": "code",
      "source": [
        "# Numerical gradients from numpy\n",
        "eps = 0.001\n",
        "\n",
        "def numerical_gradient(x, y, w, b):\n",
        "  return 0\n",
        "# Analytical gradients\n",
        "def calculate_gradient(x, y, w, b):\n",
        "  return 0\n",
        "\n",
        "# Print everything out\n",
        "print(\"Analytical Gradient = \",calculate_gradient(np_x, np_y, val_w, val_b) )\n",
        "print(\"Numpy calculated the gradients to be \", numerical_gradient(np_x, np_y, val_w, val_b))"
      ],
      "execution_count": 8,
      "outputs": [
        {
          "output_type": "stream",
          "text": [
            "Analytical Gradient =  0\n",
            "Numpy calculated the gradients to be  0\n"
          ],
          "name": "stdout"
        }
      ]
    },
    {
      "metadata": {
        "id": "Lso5zBUGttVk",
        "colab_type": "code",
        "colab": {
          "autoexec": {
            "startup": false,
            "wait_interval": 0
          },
          "base_uri": "https://localhost:8080/",
          "height": 282
        },
        "outputId": "9f11e56a-f571-4803-a5e8-87b562f029f6",
        "executionInfo": {
          "status": "ok",
          "timestamp": 1531497092233,
          "user_tz": 420,
          "elapsed": 19550,
          "user": {
            "displayName": "Summer2018 Lab41",
            "photoUrl": "https://lh3.googleusercontent.com/a/default-user=s128",
            "userId": "115943625189981908908"
          }
        }
      },
      "cell_type": "code",
      "source": [
        "loss_array = []\n",
        "for i in range(10000):\n",
        "  optpair = sess.run([tf_opt, tf_Loss], feed_dict={tf_x: np_x, tf_y: np_y})\n",
        "  loss_array += [optpair[1]]\n",
        "plt.plot(loss_array)\n",
        "print(\"Final value of w and b is \", sess.run([tf_w, tf_b]))"
      ],
      "execution_count": 9,
      "outputs": [
        {
          "output_type": "stream",
          "text": [
            "Final value of w and b is  [0.507014, -5.3974977]\n"
          ],
          "name": "stdout"
        },
        {
          "output_type": "display_data",
          "data": {
            "image/png": "[encoded data removed]",
            "text/plain": [
              "<matplotlib.figure.Figure at 0x7fb88d56f7b8>"
            ]
          },
          "metadata": {
            "tags": []
          }
        }
      ]
    },
    {
      "metadata": {
        "id": "h5lua2iRv4bU",
        "colab_type": "code",
        "colab": {
          "autoexec": {
            "startup": false,
            "wait_interval": 0
          },
          "base_uri": "https://localhost:8080/",
          "height": 37
        },
        "outputId": "f6c26f4f-9e1d-472e-8c37-98550868ef59",
        "executionInfo": {
          "status": "ok",
          "timestamp": 1531497092516,
          "user_tz": 420,
          "elapsed": 273,
          "user": {
            "displayName": "Summer2018 Lab41",
            "photoUrl": "https://lh3.googleusercontent.com/a/default-user=s128",
            "userId": "115943625189981908908"
          }
        }
      },
      "cell_type": "code",
      "source": [
        ""
      ],
      "execution_count": 9,
      "outputs": []
    }
  ]
}