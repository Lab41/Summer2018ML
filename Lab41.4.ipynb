{
  "nbformat": 4,
  "nbformat_minor": 0,
  "metadata": {
    "colab": {
      "name": " Lab41.2",
      "version": "0.3.2",
      "views": {},
      "default_view": {},
      "provenance": [
        {
          "file_id": "17qEehN3SsNDbR1ux2n3QLLDxTtPj6rbi",
          "timestamp": 1531437237584
        }
      ],
      "collapsed_sections": []
    },
    "kernelspec": {
      "name": "python3",
      "display_name": "Python 3"
    },
    "accelerator": "GPU"
  },
  "cells": [
    {
      "metadata": {
        "id": "J8wWWtJP-dMo",
        "colab_type": "code",
        "colab": {
          "autoexec": {
            "startup": false,
            "wait_interval": 0
          },
          "base_uri": "https://localhost:8080/",
          "height": 88
        },
        "outputId": "c91573c4-abc0-46ce-a033-ef8c58916256",
        "executionInfo": {
          "status": "ok",
          "timestamp": 1532701546845,
          "user_tz": 420,
          "elapsed": 456,
          "user": {
            "displayName": "Summer2018 Lab41",
            "photoUrl": "https://lh3.googleusercontent.com/a/default-user=s128",
            "userId": "115943625189981908908"
          }
        }
      },
      "cell_type": "code",
      "source": [
        "import tensorflow as tf\n",
        "import numpy as np\n",
        "import matplotlib.pyplot as plt\n",
        "%matplotlib inline \n",
        "\n",
        "sess = tf.InteractiveSession()\n",
        "device_name = tf.test.gpu_device_name()\n",
        "if device_name != '/device:GPU:0':\n",
        "  print('Did not find GPU at: {}'.format(device_name))\n",
        "else:\n",
        "  print('Found GPU at: {}'.format(device_name))"
      ],
      "execution_count": 13,
      "outputs": [
        {
          "output_type": "stream",
          "text": [
            "Found GPU at: /device:GPU:0\n"
          ],
          "name": "stdout"
        },
        {
          "output_type": "stream",
          "text": [
            "/usr/local/lib/python3.6/dist-packages/tensorflow/python/client/session.py:1714: UserWarning: An interactive session is already active. This can cause out-of-memory errors in some cases. You must explicitly call `InteractiveSession.close()` to release resources held by the other session(s).\n",
            "  warnings.warn('An interactive session is already active. This can '\n"
          ],
          "name": "stderr"
        }
      ]
    },
    {
      "metadata": {
        "id": "T57-6nyyAGBR",
        "colab_type": "text"
      },
      "cell_type": "markdown",
      "source": [
        "### Simple Gradients\n",
        "\n",
        "Let's take the gradient of $ f(x) = x^2 $. The gradient should be 2x."
      ]
    },
    {
      "metadata": {
        "id": "iatexQu7-rKe",
        "colab_type": "code",
        "colab": {
          "autoexec": {
            "startup": false,
            "wait_interval": 0
          },
          "base_uri": "https://localhost:8080/",
          "height": 34
        },
        "outputId": "7107ec6b-5aae-47b5-a97c-5b3467bf6059",
        "executionInfo": {
          "status": "ok",
          "timestamp": 1532701547367,
          "user_tz": 420,
          "elapsed": 436,
          "user": {
            "displayName": "Summer2018 Lab41",
            "photoUrl": "https://lh3.googleusercontent.com/a/default-user=s128",
            "userId": "115943625189981908908"
          }
        }
      },
      "cell_type": "code",
      "source": [
        "def f(x): return x**2\n",
        "def grad_f(x): \n",
        "  '''\n",
        "  YOU NEED TO FILL THIS FUNCTION IN\n",
        "  '''\n",
        "  return 0\n",
        "\n",
        "x = 9\n",
        "gradx = grad_f(x)\n",
        "print(\"The calculated gradient of f(x) is {}\".format(gradx))"
      ],
      "execution_count": 14,
      "outputs": [
        {
          "output_type": "stream",
          "text": [
            "The calculated gradient of f(x) is 0\n"
          ],
          "name": "stdout"
        }
      ]
    },
    {
      "metadata": {
        "id": "W_T-YkuDBijE",
        "colab_type": "text"
      },
      "cell_type": "markdown",
      "source": [
        "### Gradient in the Example\n",
        "\n",
        "Let's take the gradient of $f(x) = ( x^3 + 5 )^2$. Using the chain rule, you can analytically solve this. This is how:\n",
        "\n",
        " \\begin{align} \n",
        " \\frac{\\partial f(x)}{\\partial(x)} &= 2(x^3 + 5)3x^2  \\\\\n",
        " &= 6x^5 + 30x^2\n",
        " \\end{align}\n",
        " \n",
        " But, how do you know this is correct? You can also calculate it numerically! Recall that the gradient is really how much your function changes based on changes on input:\n",
        " \n",
        " \\begin{align}\n",
        " \\frac{\\Delta f(x)}{\\Delta x} = \\frac{ f(x^+) - f(x^-)}{ x^+ - x^- }\n",
        " \\end{align}\n",
        " \n",
        "What you can do is take a couple of points, and then seeing how they differ.\n",
        "    \n",
        " \n",
        "    \n",
        "    \n",
        "    "
      ]
    },
    {
      "metadata": {
        "id": "ATY7X0ZgBhgk",
        "colab_type": "code",
        "colab": {
          "autoexec": {
            "startup": false,
            "wait_interval": 0
          },
          "base_uri": "https://localhost:8080/",
          "height": 34
        },
        "outputId": "25fdf888-7f32-4fe1-8ec0-d8fe48b32602",
        "executionInfo": {
          "status": "ok",
          "timestamp": 1532701548083,
          "user_tz": 420,
          "elapsed": 633,
          "user": {
            "displayName": "Summer2018 Lab41",
            "photoUrl": "https://lh3.googleusercontent.com/a/default-user=s128",
            "userId": "115943625189981908908"
          }
        }
      },
      "cell_type": "code",
      "source": [
        "def f(x): return (x**3 + 5)**2\n",
        "def grad_f(x): return (6*x**5+30*x**2)\n",
        "def numerical_grad_f(x, eps): \n",
        "  '''YOU NEED TO FILL THIS FUNCTION IN'''\n",
        "  dely = 0\n",
        "  delx = 1.0\n",
        "  return dely / delx\n",
        "\n",
        "# Test the gradient out. It should be really close to your analytical solution\n",
        "x = 3\n",
        "eps= 1.0e-9\n",
        "fx = f(x)\n",
        "gradx = grad_f(x)\n",
        "ngradx = numerical_grad_f(x, eps)\n",
        "print(\"The calculated gradient of f(x) is {}, and the numerical gradient is {}\".format(gradx, ngradx))"
      ],
      "execution_count": 15,
      "outputs": [
        {
          "output_type": "stream",
          "text": [
            "The calculated gradient of f(x) is 1728, and the numerical gradient is 0.0\n"
          ],
          "name": "stdout"
        }
      ]
    },
    {
      "metadata": {
        "id": "EsJkdK9bDqCf",
        "colab_type": "text"
      },
      "cell_type": "markdown",
      "source": [
        "### Using Tensorflow\n",
        "\n",
        "Tensorflow has automatic differentiation, and there are tons of good [references](http://rail.eecs.berkeley.edu/deeprlcoursesp17/docs/tfsection.pdf) online. The basic idea is that the code creates a graph of operations and data (covered in class) and then puts those on the GPU.\n",
        "\n",
        "In this exercise, using the Google tensorflow library, let's fit data to $\\hat{y} = \\sigma\\left( wx + b \\right)$. What does this graph look like?\n",
        "\n",
        "#### Syntax\n",
        "\n",
        "To create a variable, you would type in:\n",
        "\n",
        "```w = tf.Variable(<initial-value>, name=<optional-name>)```\n",
        "\n",
        "To create a placeholder (where you pass information onto the GPU), you type in\n",
        "\n",
        "```x = tf.placeholder(<type>)```\n",
        "\n",
        "Below, we initialize all the variables (really, just creating them). Now, there are variables residing on the GPU. If you want to use any of those variables, you'd need to tranfer them from the GPU to the CPU. \n"
      ]
    },
    {
      "metadata": {
        "id": "7WSJ3SvMEPsk",
        "colab_type": "text"
      },
      "cell_type": "markdown",
      "source": [
        ""
      ]
    },
    {
      "metadata": {
        "id": "9c12LfFKDpHY",
        "colab_type": "code",
        "colab": {
          "autoexec": {
            "startup": false,
            "wait_interval": 0
          }
        }
      },
      "cell_type": "code",
      "source": [
        "def sigmoid( z ):\n",
        "  return 1 / (1 + np.exp(-z))\n",
        "\n",
        "def tf_sigmoid( z ):\n",
        "  return 1 / (1 + tf.exp(-z))\n",
        "\n",
        "# Placeholders for input and outputs\n",
        "tf_x = tf.placeholder(tf.float32)\n",
        "tf_y = tf.placeholder(tf.float32)\n",
        "\n",
        "# Variables that you want to optimize. We're only using scalars\n",
        "tf_w = tf.Variable(np.random.randn(), name='W_scalar')\n",
        "tf_b = tf.Variable(np.random.randn(), name='b_scalar')\n",
        "\n",
        "# The loss function we're using is the Mean Squared Error\n",
        "tf_Loss = tf.reduce_mean( tf.square( tf_y - tf.sigmoid(tf_w * tf_x + tf_b) ) )\n",
        "tf_dYdX = tf.gradients(tf_Loss, [tf_w, tf_b])\n",
        "\n",
        "# Tensorflow allows us to simply use optimizers...\n",
        "optimizer = tf.train.AdamOptimizer(0.001)\n",
        "tf_opt = optimizer.minimize(tf_Loss)\n",
        "\n",
        "# Initialize and run all variables\n",
        "sess.run(tf.global_variables_initializer())"
      ],
      "execution_count": 0,
      "outputs": []
    },
    {
      "metadata": {
        "id": "6mcf1cfvPXnL",
        "colab_type": "text"
      },
      "cell_type": "markdown",
      "source": [
        "### The Equivalent in Numpy\n",
        "\n",
        "Numpy is a numerical library, which works on the CPU (and not the GPU). "
      ]
    },
    {
      "metadata": {
        "id": "Yr-4mqmBOG0O",
        "colab_type": "code",
        "colab": {
          "autoexec": {
            "startup": false,
            "wait_interval": 0
          }
        }
      },
      "cell_type": "code",
      "source": [
        "N = 500 # Number of points\n",
        "\n",
        "# Initial parameters: Truth parameters\n",
        "np_w = 0.5; np_b = -5\n",
        "\n",
        "# Function for inference/generating data\n",
        "def calculate_f(x, w, b, generate=False):\n",
        "  # This is if you're generating any data. We'll be adding noise.\n",
        "  if generate:\n",
        "    return sigmoid( w*x + b ) + 0.05*np.random.randn(N)> 0.5\n",
        "  # Otherwise, just evaluate it\n",
        "  else:\n",
        "    return sigmoid( w*x + b)\n",
        "  \n",
        "  # The loss function (as described in class)\n",
        "def calculate_loss(x, y, w, b):\n",
        "  return np.mean( ( y - sigmoid( w * x + b) )**2 ) "
      ],
      "execution_count": 0,
      "outputs": []
    },
    {
      "metadata": {
        "id": "uMArp2KWIUec",
        "colab_type": "code",
        "colab": {
          "autoexec": {
            "startup": false,
            "wait_interval": 0
          },
          "base_uri": "https://localhost:8080/",
          "height": 296
        },
        "outputId": "c0d4b37e-8442-4c3f-90b1-ee4e43662ac3",
        "executionInfo": {
          "status": "ok",
          "timestamp": 1532701550639,
          "user_tz": 420,
          "elapsed": 840,
          "user": {
            "displayName": "Summer2018 Lab41",
            "photoUrl": "https://lh3.googleusercontent.com/a/default-user=s128",
            "userId": "115943625189981908908"
          }
        }
      },
      "cell_type": "code",
      "source": [
        "# Here is some \"truth\" data\n",
        "np_x = 30 * np.random.randn(N)\n",
        "np_y = calculate_f(np_x, np_w, np_b, generate=True)\n",
        "\n",
        "plt.scatter(np_x, np_y); plt.xlabel('X (input)')"
      ],
      "execution_count": 18,
      "outputs": [
        {
          "output_type": "execute_result",
          "data": {
            "text/plain": [
              "Text(0.5,0,'X (input)')"
            ]
          },
          "metadata": {
            "tags": []
          },
          "execution_count": 18
        },
        {
          "output_type": "display_data",
          "data": {
            "image/png": "[encoded data removed]",
            "text/plain": [
              "<matplotlib.figure.Figure at 0x7f67bb0d3470>"
            ]
          },
          "metadata": {
            "tags": []
          }
        }
      ]
    },
    {
      "metadata": {
        "id": "lFTo-pVDVx_T",
        "colab_type": "text"
      },
      "cell_type": "markdown",
      "source": [
        "### Calculate Tensorflow\n",
        "\n",
        "To transfer variables to and from the GPU, you use the \"run\". Each \"session\" you have on the GPU box has a function `run`, which is an operation you command for the GPU access. To get a variable, for example, you would run: `CPU_VAR = sess.run(GPU_VAR)`.\n",
        "\n",
        "You can also run the graph you created, by feeding in a dictionary. Look up the Tensorflow instructions to run a session with `feed_dict`. Calculate the gradient from our graph."
      ]
    },
    {
      "metadata": {
        "id": "JmWlHYXdVLf2",
        "colab_type": "code",
        "colab": {
          "autoexec": {
            "startup": false,
            "wait_interval": 0
          },
          "base_uri": "https://localhost:8080/",
          "height": 34
        },
        "outputId": "efb89779-0620-4108-d8e0-eb8d40d42bad",
        "executionInfo": {
          "status": "ok",
          "timestamp": 1532701551555,
          "user_tz": 420,
          "elapsed": 823,
          "user": {
            "displayName": "Summer2018 Lab41",
            "photoUrl": "https://lh3.googleusercontent.com/a/default-user=s128",
            "userId": "115943625189981908908"
          }
        }
      },
      "cell_type": "code",
      "source": [
        "# Let's get the values from tensorflow\n",
        "val_w = sess.run(tf_w)\n",
        "val_b = sess.run(tf_b)\n",
        "\n",
        "# Tensorflow gradients\n",
        "val_dYdX = 0\n",
        "print(\"Tensorflow calculated the gradients to be \", val_dYdX)"
      ],
      "execution_count": 19,
      "outputs": [
        {
          "output_type": "stream",
          "text": [
            "Tensorflow calculated the gradients to be  0\n"
          ],
          "name": "stdout"
        }
      ]
    },
    {
      "metadata": {
        "id": "p9_4e-BUWkXo",
        "colab_type": "text"
      },
      "cell_type": "markdown",
      "source": [
        "### Checking answers with Numpy\n",
        "\n",
        "Now, check your tensorflow gradient with NUMPY."
      ]
    },
    {
      "metadata": {
        "id": "3De_kSP5ZB0x",
        "colab_type": "code",
        "colab": {
          "autoexec": {
            "startup": false,
            "wait_interval": 0
          },
          "base_uri": "https://localhost:8080/",
          "height": 51
        },
        "outputId": "eb886248-c028-4fb4-e680-9ecba60a3e5f",
        "executionInfo": {
          "status": "ok",
          "timestamp": 1532701552049,
          "user_tz": 420,
          "elapsed": 442,
          "user": {
            "displayName": "Summer2018 Lab41",
            "photoUrl": "https://lh3.googleusercontent.com/a/default-user=s128",
            "userId": "115943625189981908908"
          }
        }
      },
      "cell_type": "code",
      "source": [
        "# Numerical gradients from numpy\n",
        "eps = 0.001\n",
        "\n",
        "def numerical_gradient(x, y, w, b):\n",
        "  '''\n",
        "  YOU NEED TO FILL THIS IN\n",
        "  '''\n",
        "  return 0\n",
        "# Analytical gradients\n",
        "def calculate_gradient(x, y, w, b):\n",
        "  '''\n",
        "  YOU NEED TO FILL THIS IN\n",
        "  '''\n",
        "  return 0\n",
        "\n",
        "# Print everything out\n",
        "print(\"Analytical Gradient = \",calculate_gradient(np_x, np_y, val_w, val_b) )\n",
        "print(\"Numpy calculated the gradients to be \", numerical_gradient(np_x, np_y, val_w, val_b))"
      ],
      "execution_count": 20,
      "outputs": [
        {
          "output_type": "stream",
          "text": [
            "Analytical Gradient =  0\n",
            "Numpy calculated the gradients to be  0\n"
          ],
          "name": "stdout"
        }
      ]
    },
    {
      "metadata": {
        "id": "Lso5zBUGttVk",
        "colab_type": "code",
        "colab": {
          "autoexec": {
            "startup": false,
            "wait_interval": 0
          },
          "base_uri": "https://localhost:8080/",
          "height": 282
        },
        "outputId": "bb77f379-f9c0-491a-a62f-c9d81fa8f9d6",
        "executionInfo": {
          "status": "ok",
          "timestamp": 1532701570096,
          "user_tz": 420,
          "elapsed": 17969,
          "user": {
            "displayName": "Summer2018 Lab41",
            "photoUrl": "https://lh3.googleusercontent.com/a/default-user=s128",
            "userId": "115943625189981908908"
          }
        }
      },
      "cell_type": "code",
      "source": [
        "loss_array = []\n",
        "for i in range(10000):\n",
        "  optpair = sess.run([tf_opt, tf_Loss], feed_dict={tf_x: np_x, tf_y: np_y})\n",
        "  loss_array += [optpair[1]]\n",
        "plt.plot(loss_array)\n",
        "print(\"Final value of w and b is \", sess.run([tf_w, tf_b]))"
      ],
      "execution_count": 21,
      "outputs": [
        {
          "output_type": "stream",
          "text": [
            "Final value of w and b is  [0.8892687, -8.786561]\n"
          ],
          "name": "stdout"
        },
        {
          "output_type": "display_data",
          "data": {
            "image/png": "[encoded data removed]",
            "text/plain": [
              "<matplotlib.figure.Figure at 0x7f67c6b8d208>"
            ]
          },
          "metadata": {
            "tags": []
          }
        }
      ]
    },
    {
      "metadata": {
        "id": "h5lua2iRv4bU",
        "colab_type": "code",
        "colab": {
          "autoexec": {
            "startup": false,
            "wait_interval": 0
          }
        }
      },
      "cell_type": "code",
      "source": [
        ""
      ],
      "execution_count": 0,
      "outputs": []
    }
  ]
}