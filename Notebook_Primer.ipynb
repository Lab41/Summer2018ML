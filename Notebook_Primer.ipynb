{
  "nbformat": 4,
  "nbformat_minor": 0,
  "metadata": {
    "colab": {
      "name": "Untitled0.ipynb",
      "version": "0.3.2",
      "views": {},
      "default_view": {},
      "provenance": [],
      "toc_visible": true
    },
    "kernelspec": {
      "name": "python3",
      "display_name": "Python 3"
    }
  },
  "cells": [
    {
      "metadata": {
        "id": "6Ri3fpIdUcJ1",
        "colab_type": "code",
        "colab": {
          "autoexec": {
            "startup": false,
            "wait_interval": 0
          },
          "base_uri": "https://localhost:8080/",
          "height": 34
        },
        "outputId": "3b3dec38-d2cd-4d12-eec7-635cca3571f9",
        "executionInfo": {
          "status": "ok",
          "timestamp": 1530223607240,
          "user_tz": 420,
          "elapsed": 416,
          "user": {
            "displayName": "Sean S",
            "photoUrl": "//lh6.googleusercontent.com/-eEPZ6eAuu48/AAAAAAAAAAI/AAAAAAAAAC4/GojB-J8BvnE/s50-c-k-no/photo.jpg",
            "userId": "113307109983137215144"
          }
        }
      },
      "cell_type": "code",
      "source": [
        "print(\"Hello world\")"
      ],
      "execution_count": 7,
      "outputs": [
        {
          "output_type": "stream",
          "text": [
            "Hello world\n"
          ],
          "name": "stdout"
        }
      ]
    },
    {
      "metadata": {
        "id": "VFhyaVhdUpEB",
        "colab_type": "code",
        "colab": {
          "autoexec": {
            "startup": false,
            "wait_interval": 0
          }
        }
      },
      "cell_type": "code",
      "source": [
        "a = \"Hello\""
      ],
      "execution_count": 0,
      "outputs": []
    },
    {
      "metadata": {
        "id": "wRxy0bnybvLi",
        "colab_type": "code",
        "colab": {
          "autoexec": {
            "startup": false,
            "wait_interval": 0
          }
        }
      },
      "cell_type": "code",
      "source": [
        "b = \"World\""
      ],
      "execution_count": 0,
      "outputs": []
    },
    {
      "metadata": {
        "id": "-8SgZZLBbyYc",
        "colab_type": "code",
        "colab": {
          "autoexec": {
            "startup": false,
            "wait_interval": 0
          },
          "base_uri": "https://localhost:8080/",
          "height": 34
        },
        "outputId": "8be4a52b-ef9e-466b-e16e-981c663f0e5f",
        "executionInfo": {
          "status": "ok",
          "timestamp": 1530223628002,
          "user_tz": 420,
          "elapsed": 414,
          "user": {
            "displayName": "Sean S",
            "photoUrl": "//lh6.googleusercontent.com/-eEPZ6eAuu48/AAAAAAAAAAI/AAAAAAAAAC4/GojB-J8BvnE/s50-c-k-no/photo.jpg",
            "userId": "113307109983137215144"
          }
        }
      },
      "cell_type": "code",
      "source": [
        "print(\"%s %s\" % (a, b))"
      ],
      "execution_count": 8,
      "outputs": [
        {
          "output_type": "stream",
          "text": [
            "Hello World\n"
          ],
          "name": "stdout"
        }
      ]
    }
  ]
}
